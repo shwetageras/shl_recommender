{
 "cells": [
  {
   "cell_type": "markdown",
   "id": "9193a20d-ea85-4e7d-a6f9-85deacdd2142",
   "metadata": {},
   "source": [
    "- ### Sample Test Queries (based on SHL task)"
   ]
  },
  {
   "cell_type": "code",
   "execution_count": 19,
   "id": "254cef20-12d6-45a8-ad76-b207af485d8c",
   "metadata": {},
   "outputs": [],
   "source": [
    "import pandas as pd\n",
    "import requests\n",
    "\n",
    "# Load your original dataset\n",
    "df = pd.read_csv(\"shl_data.csv\")\n",
    "df.columns = df.columns.str.strip()\n",
    "\n",
    "sample_queries = [\n",
    "    {\"query\": \"Account Manager\", \"expected\": \"Account Manager\"},\n",
    "    {\"query\": \"Teller\", \"expected\": \"Teller with Sales\"},\n",
    "    {\"query\": \"Director\", \"expected\": \"Director\"},\n",
    "    {\"query\": \"Cashier\", \"expected\": \"Cashier\"},\n",
    "    {\"query\": \"Administrative\", \"expected\": \"Administrative Assistant\"}\n",
    "]"
   ]
  },
  {
   "cell_type": "code",
   "execution_count": 21,
   "id": "9866892b-bffc-4141-a519-6d9c3527d1d6",
   "metadata": {},
   "outputs": [],
   "source": [
    "def recall_at_k(expected, predicted, k=3):\n",
    "    return int(expected.lower() in [p.lower() for p in predicted[:k]])\n",
    "\n",
    "def map_at_k(expected, predicted, k=3):\n",
    "    for i, p in enumerate(predicted[:k]):\n",
    "        if p.lower() == expected.lower():\n",
    "            return 1 / (i + 1)\n",
    "    return 0"
   ]
  },
  {
   "cell_type": "code",
   "execution_count": 27,
   "id": "cb4ce927-dc9c-402c-b6ba-a958e53c47fa",
   "metadata": {},
   "outputs": [
    {
     "name": "stdout",
     "output_type": "stream",
     "text": [
      "Raw API response for 'Account Manager': [{'assessment_name': 'Account Manager', 'remote_testing': 'Yes', 'adaptive_irt': 'Yes', 'duration': '49', 'test_type': 'unknown'}]\n",
      "🔍 Query: Account Manager\n",
      "Expected: Account Manager\n",
      "Top Predictions: ['Account Manager']\n",
      "Recall@3: 1, MAP@3: 1.00\n",
      "\n",
      "Raw API response for 'Teller': [{'assessment_name': 'Teller with Sales', 'remote_testing': 'Yes', 'adaptive_irt': 'No', 'duration': '36', 'test_type': 'unknown'}]\n",
      "🔍 Query: Teller\n",
      "Expected: Teller with Sales\n",
      "Top Predictions: ['Teller with Sales']\n",
      "Recall@3: 1, MAP@3: 1.00\n",
      "\n",
      "Raw API response for 'Director': [{'assessment_name': 'Director', 'remote_testing': 'Yes', 'adaptive_irt': 'Yes', 'duration': '69', 'test_type': '216'}, {'assessment_name': 'District/Regional Manager', 'remote_testing': 'Yes', 'adaptive_irt': 'Yes', 'duration': '65', 'test_type': '222'}]\n",
      "🔍 Query: Director\n",
      "Expected: Director\n",
      "Top Predictions: ['Director', 'District/Regional Manager']\n",
      "Recall@3: 1, MAP@3: 1.00\n",
      "\n",
      "Raw API response for 'Cashier': [{'assessment_name': 'Cashier', 'remote_testing': 'Yes', 'adaptive_irt': 'No', 'duration': '21', 'test_type': '108'}]\n",
      "🔍 Query: Cashier\n",
      "Expected: Cashier\n",
      "Top Predictions: ['Cashier']\n",
      "Recall@3: 1, MAP@3: 1.00\n",
      "\n",
      "Raw API response for 'Administrative': [{'assessment_name': 'Administrative Professional', 'remote_testing': 'Yes', 'adaptive_irt': 'Yes', 'duration': '36', 'test_type': '179'}, {'assessment_name': 'Administrative Assistant', 'remote_testing': 'Yes', 'adaptive_irt': 'No', 'duration': 'unknown', 'test_type': 'unknown'}]\n",
      "🔍 Query: Administrative\n",
      "Expected: Administrative Assistant\n",
      "Top Predictions: ['Administrative Professional', 'Administrative Assistant']\n",
      "Recall@3: 1, MAP@3: 0.50\n",
      "\n"
     ]
    }
   ],
   "source": [
    "# Set your API endpoint here — local or deployed\n",
    "API_URL = \"https://shl-recommender-fp00.onrender.com/recommend\"  # Render URL\n",
    "\n",
    "recall_scores = []\n",
    "map_scores = []\n",
    "\n",
    "for item in sample_queries:\n",
    "    query = item['query']\n",
    "    expected = item['expected']\n",
    "\n",
    "    try:\n",
    "        response = requests.get(API_URL, params={\"query\": query})\n",
    "        result = response.json()\n",
    "        print(f\"Raw API response for '{query}':\", result)\n",
    "\n",
    "        predictions = [r['assessment_name'] for r in result]\n",
    "\n",
    "    except Exception as e:\n",
    "        predictions = []\n",
    "        print(f\"Error for query '{query}':\", e)\n",
    "\n",
    "    recall = recall_at_k(expected, predictions)\n",
    "    map3 = map_at_k(expected, predictions)\n",
    "\n",
    "    recall_scores.append(recall)\n",
    "    map_scores.append(map3)\n",
    "\n",
    "    print(f\"🔍 Query: {query}\")\n",
    "    print(f\"Expected: {expected}\")\n",
    "    print(f\"Top Predictions: {predictions[:3]}\")\n",
    "    print(f\"Recall@3: {recall}, MAP@3: {map3:.2f}\\n\")"
   ]
  },
  {
   "cell_type": "code",
   "execution_count": 29,
   "id": "27222fdf-d18a-4379-b177-8305f230a624",
   "metadata": {},
   "outputs": [
    {
     "name": "stdout",
     "output_type": "stream",
     "text": [
      "📊 Final Evaluation Metrics\n",
      "Mean Recall@3: 1.00\n",
      "Mean MAP@3: 0.90\n"
     ]
    }
   ],
   "source": [
    "print(\"📊 Final Evaluation Metrics\")\n",
    "print(f\"Mean Recall@3: {sum(recall_scores)/len(recall_scores):.2f}\")\n",
    "print(f\"Mean MAP@3: {sum(map_scores)/len(map_scores):.2f}\")"
   ]
  },
  {
   "cell_type": "code",
   "execution_count": null,
   "id": "f5bde4a7-543e-41c2-aa77-5ee1318788f0",
   "metadata": {},
   "outputs": [],
   "source": []
  }
 ],
 "metadata": {
  "kernelspec": {
   "display_name": "Python 3 (ipykernel)",
   "language": "python",
   "name": "python3"
  },
  "language_info": {
   "codemirror_mode": {
    "name": "ipython",
    "version": 3
   },
   "file_extension": ".py",
   "mimetype": "text/x-python",
   "name": "python",
   "nbconvert_exporter": "python",
   "pygments_lexer": "ipython3",
   "version": "3.12.4"
  }
 },
 "nbformat": 4,
 "nbformat_minor": 5
}
